{
 "cells": [
  {
   "cell_type": "code",
   "execution_count": 12,
   "metadata": {
    "collapsed": true
   },
   "outputs": [],
   "source": [
    "import pandas as pd\n",
    "import numpy as np\n",
    "import datetime as dt\n",
    "import glob\n",
    "import os"
   ]
  },
  {
   "cell_type": "code",
   "execution_count": 13,
   "outputs": [
    {
     "data": {
      "text/plain": "                  START_TIME             END_TIME BUILDING_ID TYPE    VALUE\n0        2019-01-01 00:10:07  2019-01-01 01:10:07          MH    E    8.669\n1        2019-01-01 00:10:07  2019-01-01 01:10:07          LA    E    6.808\n2        2019-01-01 00:10:07  2019-01-01 01:10:07          KH    E    6.475\n3        2019-01-01 00:10:07  2019-01-01 01:10:07          JH    E    8.623\n4        2019-01-01 00:10:07  2019-01-01 01:10:07          HE    E    5.472\n...                      ...                  ...         ...  ...      ...\n3098707  2021-11-30 22:10:06  2021-11-30 23:10:06          LS    H  161.081\n3098708  2021-11-30 22:10:06  2021-11-30 23:10:06          MR    E   82.231\n3098709  2021-11-30 22:10:06  2021-11-30 23:10:06          MR    H  350.000\n3098710  2021-11-30 22:10:06  2021-11-30 23:10:06          MO    E   59.856\n3098711  2021-11-30 22:10:06  2021-11-30 23:10:06          MO    H      NaN\n\n[3098712 rows x 5 columns]",
      "text/html": "<div>\n<style scoped>\n    .dataframe tbody tr th:only-of-type {\n        vertical-align: middle;\n    }\n\n    .dataframe tbody tr th {\n        vertical-align: top;\n    }\n\n    .dataframe thead th {\n        text-align: right;\n    }\n</style>\n<table border=\"1\" class=\"dataframe\">\n  <thead>\n    <tr style=\"text-align: right;\">\n      <th></th>\n      <th>START_TIME</th>\n      <th>END_TIME</th>\n      <th>BUILDING_ID</th>\n      <th>TYPE</th>\n      <th>VALUE</th>\n    </tr>\n  </thead>\n  <tbody>\n    <tr>\n      <th>0</th>\n      <td>2019-01-01 00:10:07</td>\n      <td>2019-01-01 01:10:07</td>\n      <td>MH</td>\n      <td>E</td>\n      <td>8.669</td>\n    </tr>\n    <tr>\n      <th>1</th>\n      <td>2019-01-01 00:10:07</td>\n      <td>2019-01-01 01:10:07</td>\n      <td>LA</td>\n      <td>E</td>\n      <td>6.808</td>\n    </tr>\n    <tr>\n      <th>2</th>\n      <td>2019-01-01 00:10:07</td>\n      <td>2019-01-01 01:10:07</td>\n      <td>KH</td>\n      <td>E</td>\n      <td>6.475</td>\n    </tr>\n    <tr>\n      <th>3</th>\n      <td>2019-01-01 00:10:07</td>\n      <td>2019-01-01 01:10:07</td>\n      <td>JH</td>\n      <td>E</td>\n      <td>8.623</td>\n    </tr>\n    <tr>\n      <th>4</th>\n      <td>2019-01-01 00:10:07</td>\n      <td>2019-01-01 01:10:07</td>\n      <td>HE</td>\n      <td>E</td>\n      <td>5.472</td>\n    </tr>\n    <tr>\n      <th>...</th>\n      <td>...</td>\n      <td>...</td>\n      <td>...</td>\n      <td>...</td>\n      <td>...</td>\n    </tr>\n    <tr>\n      <th>3098707</th>\n      <td>2021-11-30 22:10:06</td>\n      <td>2021-11-30 23:10:06</td>\n      <td>LS</td>\n      <td>H</td>\n      <td>161.081</td>\n    </tr>\n    <tr>\n      <th>3098708</th>\n      <td>2021-11-30 22:10:06</td>\n      <td>2021-11-30 23:10:06</td>\n      <td>MR</td>\n      <td>E</td>\n      <td>82.231</td>\n    </tr>\n    <tr>\n      <th>3098709</th>\n      <td>2021-11-30 22:10:06</td>\n      <td>2021-11-30 23:10:06</td>\n      <td>MR</td>\n      <td>H</td>\n      <td>350.000</td>\n    </tr>\n    <tr>\n      <th>3098710</th>\n      <td>2021-11-30 22:10:06</td>\n      <td>2021-11-30 23:10:06</td>\n      <td>MO</td>\n      <td>E</td>\n      <td>59.856</td>\n    </tr>\n    <tr>\n      <th>3098711</th>\n      <td>2021-11-30 22:10:06</td>\n      <td>2021-11-30 23:10:06</td>\n      <td>MO</td>\n      <td>H</td>\n      <td>NaN</td>\n    </tr>\n  </tbody>\n</table>\n<p>3098712 rows × 5 columns</p>\n</div>"
     },
     "execution_count": 13,
     "metadata": {},
     "output_type": "execute_result"
    }
   ],
   "source": [
    "bingData1 = pd.read_csv('bingData_01_01_2019-31_12_2019.csv')\n",
    "bingData2 = pd.read_csv('bingData_01_01_2020-07_11_2020.csv')\n",
    "# Missing Data from November 8th, 2020 to January 11st, 2021\n",
    "bingData3 = pd.read_csv('bingData_12_01_2021-30_11_2021.csv')\n",
    "bingData4 = pd.read_csv('bingData_01_12_2021-31_12_2021.csv')\n",
    "\n",
    "files = os.path.join(\"C:\\\\Users\\\\aaliy\\\\PycharmProjects\\\\pythonProject\\\\energyResearch\\\\\", \"bingData*.csv\")\n",
    "files = glob.glob(files)\n",
    "\n",
    "bingData = pd.concat(map(pd.read_csv, files), ignore_index=True)\n",
    "bingData"
   ],
   "metadata": {
    "collapsed": false,
    "pycharm": {
     "name": "#%%\n"
    }
   }
  },
  {
   "cell_type": "code",
   "execution_count": 15,
   "outputs": [
    {
     "data": {
      "text/plain": "                  START_TIME             END_TIME BUILDING_ID TYPE    VALUE  \\\n0        2019-01-01 00:10:07  2019-01-01 01:10:07          MH    E    8.669   \n1        2019-01-01 00:10:07  2019-01-01 01:10:07          LA    E    6.808   \n2        2019-01-01 00:10:07  2019-01-01 01:10:07          KH    E    6.475   \n3        2019-01-01 00:10:07  2019-01-01 01:10:07          JH    E    8.623   \n4        2019-01-01 00:10:07  2019-01-01 01:10:07          HE    E    5.472   \n...                      ...                  ...         ...  ...      ...   \n3098701  2021-11-30 22:10:06  2021-11-30 23:10:06          LM    E   23.170   \n3098703  2021-11-30 22:10:06  2021-11-30 23:10:06          LT    E   87.072   \n3098706  2021-11-30 22:10:06  2021-11-30 23:10:06          LS    E  106.377   \n3098708  2021-11-30 22:10:06  2021-11-30 23:10:06          MR    E   82.231   \n3098710  2021-11-30 22:10:06  2021-11-30 23:10:06          MO    E   59.856   \n\n                       time      Time        Date Week  Day Weekday  Hour  \n0       2019-01-01 00:10:07  00:10:07  2019-01-01   00  001       2     0  \n1       2019-01-01 00:10:07  00:10:07  2019-01-01   00  001       2     0  \n2       2019-01-01 00:10:07  00:10:07  2019-01-01   00  001       2     0  \n3       2019-01-01 00:10:07  00:10:07  2019-01-01   00  001       2     0  \n4       2019-01-01 00:10:07  00:10:07  2019-01-01   00  001       2     0  \n...                     ...       ...         ...  ...  ...     ...   ...  \n3098701 2021-11-30 22:10:06  22:10:06  2021-11-30   48  334       2    22  \n3098703 2021-11-30 22:10:06  22:10:06  2021-11-30   48  334       2    22  \n3098706 2021-11-30 22:10:06  22:10:06  2021-11-30   48  334       2    22  \n3098708 2021-11-30 22:10:06  22:10:06  2021-11-30   48  334       2    22  \n3098710 2021-11-30 22:10:06  22:10:06  2021-11-30   48  334       2    22  \n\n[1980362 rows x 12 columns]",
      "text/html": "<div>\n<style scoped>\n    .dataframe tbody tr th:only-of-type {\n        vertical-align: middle;\n    }\n\n    .dataframe tbody tr th {\n        vertical-align: top;\n    }\n\n    .dataframe thead th {\n        text-align: right;\n    }\n</style>\n<table border=\"1\" class=\"dataframe\">\n  <thead>\n    <tr style=\"text-align: right;\">\n      <th></th>\n      <th>START_TIME</th>\n      <th>END_TIME</th>\n      <th>BUILDING_ID</th>\n      <th>TYPE</th>\n      <th>VALUE</th>\n      <th>time</th>\n      <th>Time</th>\n      <th>Date</th>\n      <th>Week</th>\n      <th>Day</th>\n      <th>Weekday</th>\n      <th>Hour</th>\n    </tr>\n  </thead>\n  <tbody>\n    <tr>\n      <th>0</th>\n      <td>2019-01-01 00:10:07</td>\n      <td>2019-01-01 01:10:07</td>\n      <td>MH</td>\n      <td>E</td>\n      <td>8.669</td>\n      <td>2019-01-01 00:10:07</td>\n      <td>00:10:07</td>\n      <td>2019-01-01</td>\n      <td>00</td>\n      <td>001</td>\n      <td>2</td>\n      <td>0</td>\n    </tr>\n    <tr>\n      <th>1</th>\n      <td>2019-01-01 00:10:07</td>\n      <td>2019-01-01 01:10:07</td>\n      <td>LA</td>\n      <td>E</td>\n      <td>6.808</td>\n      <td>2019-01-01 00:10:07</td>\n      <td>00:10:07</td>\n      <td>2019-01-01</td>\n      <td>00</td>\n      <td>001</td>\n      <td>2</td>\n      <td>0</td>\n    </tr>\n    <tr>\n      <th>2</th>\n      <td>2019-01-01 00:10:07</td>\n      <td>2019-01-01 01:10:07</td>\n      <td>KH</td>\n      <td>E</td>\n      <td>6.475</td>\n      <td>2019-01-01 00:10:07</td>\n      <td>00:10:07</td>\n      <td>2019-01-01</td>\n      <td>00</td>\n      <td>001</td>\n      <td>2</td>\n      <td>0</td>\n    </tr>\n    <tr>\n      <th>3</th>\n      <td>2019-01-01 00:10:07</td>\n      <td>2019-01-01 01:10:07</td>\n      <td>JH</td>\n      <td>E</td>\n      <td>8.623</td>\n      <td>2019-01-01 00:10:07</td>\n      <td>00:10:07</td>\n      <td>2019-01-01</td>\n      <td>00</td>\n      <td>001</td>\n      <td>2</td>\n      <td>0</td>\n    </tr>\n    <tr>\n      <th>4</th>\n      <td>2019-01-01 00:10:07</td>\n      <td>2019-01-01 01:10:07</td>\n      <td>HE</td>\n      <td>E</td>\n      <td>5.472</td>\n      <td>2019-01-01 00:10:07</td>\n      <td>00:10:07</td>\n      <td>2019-01-01</td>\n      <td>00</td>\n      <td>001</td>\n      <td>2</td>\n      <td>0</td>\n    </tr>\n    <tr>\n      <th>...</th>\n      <td>...</td>\n      <td>...</td>\n      <td>...</td>\n      <td>...</td>\n      <td>...</td>\n      <td>...</td>\n      <td>...</td>\n      <td>...</td>\n      <td>...</td>\n      <td>...</td>\n      <td>...</td>\n      <td>...</td>\n    </tr>\n    <tr>\n      <th>3098701</th>\n      <td>2021-11-30 22:10:06</td>\n      <td>2021-11-30 23:10:06</td>\n      <td>LM</td>\n      <td>E</td>\n      <td>23.170</td>\n      <td>2021-11-30 22:10:06</td>\n      <td>22:10:06</td>\n      <td>2021-11-30</td>\n      <td>48</td>\n      <td>334</td>\n      <td>2</td>\n      <td>22</td>\n    </tr>\n    <tr>\n      <th>3098703</th>\n      <td>2021-11-30 22:10:06</td>\n      <td>2021-11-30 23:10:06</td>\n      <td>LT</td>\n      <td>E</td>\n      <td>87.072</td>\n      <td>2021-11-30 22:10:06</td>\n      <td>22:10:06</td>\n      <td>2021-11-30</td>\n      <td>48</td>\n      <td>334</td>\n      <td>2</td>\n      <td>22</td>\n    </tr>\n    <tr>\n      <th>3098706</th>\n      <td>2021-11-30 22:10:06</td>\n      <td>2021-11-30 23:10:06</td>\n      <td>LS</td>\n      <td>E</td>\n      <td>106.377</td>\n      <td>2021-11-30 22:10:06</td>\n      <td>22:10:06</td>\n      <td>2021-11-30</td>\n      <td>48</td>\n      <td>334</td>\n      <td>2</td>\n      <td>22</td>\n    </tr>\n    <tr>\n      <th>3098708</th>\n      <td>2021-11-30 22:10:06</td>\n      <td>2021-11-30 23:10:06</td>\n      <td>MR</td>\n      <td>E</td>\n      <td>82.231</td>\n      <td>2021-11-30 22:10:06</td>\n      <td>22:10:06</td>\n      <td>2021-11-30</td>\n      <td>48</td>\n      <td>334</td>\n      <td>2</td>\n      <td>22</td>\n    </tr>\n    <tr>\n      <th>3098710</th>\n      <td>2021-11-30 22:10:06</td>\n      <td>2021-11-30 23:10:06</td>\n      <td>MO</td>\n      <td>E</td>\n      <td>59.856</td>\n      <td>2021-11-30 22:10:06</td>\n      <td>22:10:06</td>\n      <td>2021-11-30</td>\n      <td>48</td>\n      <td>334</td>\n      <td>2</td>\n      <td>22</td>\n    </tr>\n  </tbody>\n</table>\n<p>1980362 rows × 12 columns</p>\n</div>"
     },
     "execution_count": 15,
     "metadata": {},
     "output_type": "execute_result"
    }
   ],
   "source": [
    "# DATA CLEANING PROCESS\n",
    "# Isolate to just Type \"E\" which refers to Electricity\n",
    "bingData = bingData[bingData['TYPE'] == 'E']\n",
    "\n",
    "# Add Time Information to bingData Data Frame\n",
    "bingData['time'] = pd.to_datetime(bingData['START_TIME'])\n",
    "bingData['Time'] = pd.to_datetime(bingData['time']).dt.time\n",
    "bingData['Date'] = pd.to_datetime(bingData['time']).dt.date\n",
    "bingData['Week'] = bingData['time'].dt.strftime(\"%U\")\n",
    "bingData['Day'] = bingData['time'].dt.strftime(\"%j\")\n",
    "bingData['Weekday'] = bingData['time'].dt.strftime(\"%w\")\n",
    "bingData['Hour'] = pd.to_datetime(bingData['time']).dt.hour\n",
    "\n",
    "bingData"
   ],
   "metadata": {
    "collapsed": false,
    "pycharm": {
     "name": "#%%\n"
    }
   }
  },
  {
   "cell_type": "code",
   "execution_count": 9,
   "outputs": [
    {
     "data": {
      "text/plain": "                  START_TIME             END_TIME BUILDING_ID TYPE    VALUE\n78       2019-01-01 00:10:07  2019-01-01 01:10:07          JS    E   38.066\n97       2019-01-01 01:10:08  2019-01-01 02:10:08          JS    E   38.286\n210      2019-01-01 02:10:08  2019-01-01 03:10:08          JS    E   40.250\n362      2019-01-01 03:10:08  2019-01-01 04:10:08          JS    E   35.990\n478      2019-01-01 04:10:08  2019-01-01 05:10:08          JS    E   37.957\n...                      ...                  ...         ...  ...      ...\n3098004  2021-11-30 18:10:04  2021-11-30 19:10:04          JS    E  135.652\n3098186  2021-11-30 19:10:10  2021-11-30 20:10:10          JS    E  137.292\n3098292  2021-11-30 20:10:05  2021-11-30 21:10:05          JS    E  139.526\n3098486  2021-11-30 21:10:01  2021-11-30 22:10:01          JS    E  143.845\n3098695  2021-11-30 22:10:06  2021-11-30 23:10:06          JS    E  143.572\n\n[24217 rows x 5 columns]",
      "text/html": "<div>\n<style scoped>\n    .dataframe tbody tr th:only-of-type {\n        vertical-align: middle;\n    }\n\n    .dataframe tbody tr th {\n        vertical-align: top;\n    }\n\n    .dataframe thead th {\n        text-align: right;\n    }\n</style>\n<table border=\"1\" class=\"dataframe\">\n  <thead>\n    <tr style=\"text-align: right;\">\n      <th></th>\n      <th>START_TIME</th>\n      <th>END_TIME</th>\n      <th>BUILDING_ID</th>\n      <th>TYPE</th>\n      <th>VALUE</th>\n    </tr>\n  </thead>\n  <tbody>\n    <tr>\n      <th>78</th>\n      <td>2019-01-01 00:10:07</td>\n      <td>2019-01-01 01:10:07</td>\n      <td>JS</td>\n      <td>E</td>\n      <td>38.066</td>\n    </tr>\n    <tr>\n      <th>97</th>\n      <td>2019-01-01 01:10:08</td>\n      <td>2019-01-01 02:10:08</td>\n      <td>JS</td>\n      <td>E</td>\n      <td>38.286</td>\n    </tr>\n    <tr>\n      <th>210</th>\n      <td>2019-01-01 02:10:08</td>\n      <td>2019-01-01 03:10:08</td>\n      <td>JS</td>\n      <td>E</td>\n      <td>40.250</td>\n    </tr>\n    <tr>\n      <th>362</th>\n      <td>2019-01-01 03:10:08</td>\n      <td>2019-01-01 04:10:08</td>\n      <td>JS</td>\n      <td>E</td>\n      <td>35.990</td>\n    </tr>\n    <tr>\n      <th>478</th>\n      <td>2019-01-01 04:10:08</td>\n      <td>2019-01-01 05:10:08</td>\n      <td>JS</td>\n      <td>E</td>\n      <td>37.957</td>\n    </tr>\n    <tr>\n      <th>...</th>\n      <td>...</td>\n      <td>...</td>\n      <td>...</td>\n      <td>...</td>\n      <td>...</td>\n    </tr>\n    <tr>\n      <th>3098004</th>\n      <td>2021-11-30 18:10:04</td>\n      <td>2021-11-30 19:10:04</td>\n      <td>JS</td>\n      <td>E</td>\n      <td>135.652</td>\n    </tr>\n    <tr>\n      <th>3098186</th>\n      <td>2021-11-30 19:10:10</td>\n      <td>2021-11-30 20:10:10</td>\n      <td>JS</td>\n      <td>E</td>\n      <td>137.292</td>\n    </tr>\n    <tr>\n      <th>3098292</th>\n      <td>2021-11-30 20:10:05</td>\n      <td>2021-11-30 21:10:05</td>\n      <td>JS</td>\n      <td>E</td>\n      <td>139.526</td>\n    </tr>\n    <tr>\n      <th>3098486</th>\n      <td>2021-11-30 21:10:01</td>\n      <td>2021-11-30 22:10:01</td>\n      <td>JS</td>\n      <td>E</td>\n      <td>143.845</td>\n    </tr>\n    <tr>\n      <th>3098695</th>\n      <td>2021-11-30 22:10:06</td>\n      <td>2021-11-30 23:10:06</td>\n      <td>JS</td>\n      <td>E</td>\n      <td>143.572</td>\n    </tr>\n  </tbody>\n</table>\n<p>24217 rows × 5 columns</p>\n</div>"
     },
     "execution_count": 9,
     "metadata": {},
     "output_type": "execute_result"
    }
   ],
   "source": [
    "johnsonData = bingData[bingData['BUILDING_ID'] == 'JS']\n",
    "johnsonData"
   ],
   "metadata": {
    "collapsed": false,
    "pycharm": {
     "name": "#%%\n"
    }
   }
  },
  {
   "cell_type": "code",
   "execution_count": null,
   "outputs": [],
   "source": [],
   "metadata": {
    "collapsed": false,
    "pycharm": {
     "name": "#%%\n"
    }
   }
  }
 ],
 "metadata": {
  "kernelspec": {
   "display_name": "Python 3",
   "language": "python",
   "name": "python3"
  },
  "language_info": {
   "codemirror_mode": {
    "name": "ipython",
    "version": 2
   },
   "file_extension": ".py",
   "mimetype": "text/x-python",
   "name": "python",
   "nbconvert_exporter": "python",
   "pygments_lexer": "ipython2",
   "version": "2.7.6"
  }
 },
 "nbformat": 4,
 "nbformat_minor": 0
}