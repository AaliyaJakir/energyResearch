{
 "cells": [
  {
   "cell_type": "code",
   "execution_count": null,
   "metadata": {
    "collapsed": true
   },
   "outputs": [],
   "source": [
    "import pandas as pd\n",
    "import numpy as np\n"
   ]
  },
  {
   "cell_type": "code",
   "execution_count": null,
   "outputs": [],
   "source": [
    "bingData1 = pd.read_csv('bingData_01_01_2019-31_12_2019.csv')\n",
    "bingData2 = pd.read_csv('bingData_01_01_2020-07_11_2020.csv')\n",
    "# Missing Data from November 8th, 2020 to January 11st, 2021\n",
    "bingData3 = pd.read_csv('bingData_12_01_2021-30_11_2021.csv')\n",
    "bingData4 = pd.read_csv('bingData_01_12_2021-31_12_2021.csv')\n",
    "\n",
    "files = os.path.join(\"C:\\\\Users\\\\aaliy\\\\Documents\\\\Projects\\\\GitHub\\\\energyResearch\\\\\", \"bingData*.csv\")\n",
    "files = glob.glob(files)\n",
    "\n",
    "bingData = pd.concat(map(pd.read_csv, files), ignore_index=True)\n",
    "bingData"
   ],
   "metadata": {
    "collapsed": false,
    "pycharm": {
     "name": "#%%\n"
    }
   }
  },
  {
   "cell_type": "code",
   "execution_count": null,
   "outputs": [],
   "source": [
    "# DATA CLEANING PROCESS\n"
   ],
   "metadata": {
    "collapsed": false,
    "pycharm": {
     "name": "#%%\n"
    }
   }
  }
 ],
 "metadata": {
  "kernelspec": {
   "display_name": "Python 3",
   "language": "python",
   "name": "python3"
  },
  "language_info": {
   "codemirror_mode": {
    "name": "ipython",
    "version": 2
   },
   "file_extension": ".py",
   "mimetype": "text/x-python",
   "name": "python",
   "nbconvert_exporter": "python",
   "pygments_lexer": "ipython2",
   "version": "2.7.6"
  }
 },
 "nbformat": 4,
 "nbformat_minor": 0
}