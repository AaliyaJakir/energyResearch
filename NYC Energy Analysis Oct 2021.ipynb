{
 "cells": [
  {
   "cell_type": "code",
   "execution_count": 1,
   "id": "08bfd52a",
   "metadata": {},
   "outputs": [],
   "source": [
    "#list of commands to import packges and initialize SQL connection\n",
    "import pymysql\n",
    "import paramiko\n",
    "import datetime\n",
    "from datetime import timedelta\n",
    "from time import strftime\n",
    "import pandas as pd\n",
    "import numpy as np\n",
    "import matplotlib.pyplot as plt\n",
    "from paramiko import SSHClient\n",
    "from sshtunnel import SSHTunnelForwarder\n",
    "from os.path import expanduser\n",
    "\n",
    "home = expanduser('~')\n",
    "pempath = '\\DEV_KEY_PAIR\\coiapi-key.pem'\n",
    "mypkey = paramiko.RSAKey.from_private_key_file(home + pempath)\n",
    "\n",
    "sql_hostname = 'coioptimizer-production.cfbwew0xrbex.us-east-1.rds.amazonaws.com'\n",
    "sql_username = 'coienergy'\n",
    "sql_password = 'devOps0208'\n",
    "#sql_main_database = 'coioptimizer_teco'\n",
    "sql_main_database = 'coioptimizer'\n",
    "sql_port = 3306\n",
    "ssh_host = 'ec2-18-209-245-218.compute-1.amazonaws.com'\n",
    "ssh_user = 'ec2-user'\n",
    "ssh_port = 22\n",
    "sql_ip = '172.17.2.59'\n",
    "#print(home+pempath)"
   ]
  },
  {
   "cell_type": "code",
   "execution_count": 2,
   "id": "8b7fc0cf",
   "metadata": {},
   "outputs": [],
   "source": [
    "#function to get data (embedded in sql_query function)\n",
    "def get_data(query_string):\n",
    "    with SSHTunnelForwarder(\n",
    "            (ssh_host, ssh_port),\n",
    "            ssh_username=ssh_user,\n",
    "            ssh_pkey=mypkey,\n",
    "            remote_bind_address=(sql_hostname, sql_port)) as tunnel:\n",
    "        conn = pymysql.connect(host='127.0.0.1', user=sql_username,\n",
    "                passwd=sql_password, db=sql_main_database,\n",
    "                port=tunnel.local_bind_port)\n",
    "        query = query_string\n",
    "        data = pd.read_sql_query(query, conn)\n",
    "        conn.close()\n",
    "        return data"
   ]
  },
  {
   "cell_type": "code",
   "execution_count": 3,
   "id": "138abb13",
   "metadata": {},
   "outputs": [],
   "source": [
    "#function to query sql based on meters, start time, end time \n",
    "def sql_query(meter_list, time_start, time_end): \n",
    "    table = 'coioptimizer.meter_data_minute'\n",
    "    datasets = []\n",
    "    for i in meter_list:\n",
    "        i = str(i)\n",
    "        query_string = 'SELECT * FROM ' + table + ' where date_time between \"' + time_start +'\" and \"' + time_end + '\" and meter_id = ' + i +';'\n",
    "        data = get_data(query_string)\n",
    "        data['date_time'] = data['date_time'] - np.timedelta64(4,'h')\n",
    "        data = pd.DataFrame({'meter': data['meter_id'], 'time' : data['date_time'], 'kWh': data['kwh_total']})\n",
    "        datasets.append(data)\n",
    "    return datasets "
   ]
  },
  {
   "cell_type": "code",
   "execution_count": 4,
   "id": "1ac515ca",
   "metadata": {},
   "outputs": [],
   "source": [
    "#function to convert database values into demand, based on \"interval\" minute spacing\n",
    "def get_demand(datasets,interval):\n",
    "    demand_data = []\n",
    "    for i in datasets:\n",
    "        j=0\n",
    "        subsample_time = []\n",
    "        subsample_kwh = []\n",
    "        while(j < len(i)):\n",
    "            subsample_time.append(i['time'][j])\n",
    "            subsample_kwh.append(i['kWh'][j])\n",
    "            j+=interval\n",
    "        df = pd.DataFrame({'time' : subsample_time, 'kWh': subsample_kwh})\n",
    "        delta_kwh = -1*df['kWh'].diff(1)\n",
    "        delta_time = -1*df['time'].diff(1) / np.timedelta64(1, 'h')\n",
    "        demand = np.divide(delta_kwh, delta_time)\n",
    "        df2 = pd.DataFrame({'time' : subsample_time, 'demand': demand})\n",
    "        id_demand = [i['meter'][0], df2]\n",
    "        demand_data.append(id_demand)\n",
    "    return demand_data"
   ]
  },
  {
   "cell_type": "code",
   "execution_count": 5,
   "id": "fa2fb814",
   "metadata": {},
   "outputs": [
    {
     "data": {
      "text/plain": [
       "[[2,\n",
       "                      time      demand\n",
       "  0    2021-07-01 09:36:20         NaN\n",
       "  1    2021-07-08 17:56:00    0.358707\n",
       "  2    2021-07-08 18:56:00   80.750000\n",
       "  3    2021-07-08 19:56:00   77.750000\n",
       "  4    2021-07-08 20:56:00   68.750000\n",
       "  ...                  ...         ...\n",
       "  2317 2021-10-13 15:30:00  322.000000\n",
       "  2318 2021-10-13 16:30:00  328.000000\n",
       "  2319 2021-10-13 17:30:00  315.000000\n",
       "  2320 2021-10-13 18:30:00  295.000000\n",
       "  2321 2021-10-13 19:30:00  292.000000\n",
       "  \n",
       "  [2322 rows x 2 columns]]]"
      ]
     },
     "execution_count": 5,
     "metadata": {},
     "output_type": "execute_result"
    }
   ],
   "source": [
    "#creating variables for sql query\n",
    "meter_list = [2]\n",
    "time_start = '2021-07-01 00:00:00'\n",
    "time_end = '2021-10-14 00:00:00'\n",
    "\n",
    "#gathering kwh data\n",
    "datasets = sql_query(meter_list, time_start, time_end)\n",
    "\n",
    "#converting kwh data to demand\n",
    "demand_data = get_demand(datasets,60)\n",
    "demand_data"
   ]
  },
  {
   "cell_type": "code",
   "execution_count": 6,
   "id": "106b5a79",
   "metadata": {},
   "outputs": [
    {
     "data": {
      "text/plain": [
       "[[2,\n",
       "                      time  demand\n",
       "  753  2021-08-09 08:51:00   404.0\n",
       "  754  2021-08-09 09:51:00   352.0\n",
       "  755  2021-08-09 10:51:00   324.0\n",
       "  756  2021-08-09 11:51:00   321.0\n",
       "  757  2021-08-09 12:51:00   323.0\n",
       "  ...                  ...     ...\n",
       "  2317 2021-10-13 15:30:00   322.0\n",
       "  2318 2021-10-13 16:30:00   328.0\n",
       "  2319 2021-10-13 17:30:00   315.0\n",
       "  2320 2021-10-13 18:30:00   295.0\n",
       "  2321 2021-10-13 19:30:00   292.0\n",
       "  \n",
       "  [1569 rows x 2 columns]]]"
      ]
     },
     "execution_count": 6,
     "metadata": {},
     "output_type": "execute_result"
    }
   ],
   "source": [
    "#w = list(demand_data[0][1]['demand'][1:])\n",
    "#k = max(w)\n",
    "#w.index(k)\n",
    "demand_data[0][1] = demand_data[0][1][753:]\n",
    "demand_data"
   ]
  },
  {
   "cell_type": "code",
   "execution_count": 7,
   "id": "2efd9616",
   "metadata": {},
   "outputs": [],
   "source": [
    "#functions for meter parsing and data inspection\n",
    "def get_meter_index(meter_id):\n",
    "    i = 0\n",
    "    while i < len(demand_data):\n",
    "        if demand_data[i][0] == meter_id:\n",
    "            return i \n",
    "        else:\n",
    "            i +=1 \n",
    "            \n",
    "def inspect_meter(meter_id):\n",
    "    j = get_meter_index(meter_id)\n",
    "    x = demand_data[j][1]['time']\n",
    "    y = demand_data[j][1]['demand']\n",
    "    xmin = min(x) \n",
    "    xmax = max(x)\n",
    "    \n",
    "    #set hourly tick marks\n",
    "    ticks_dt = np.arange(xmin, xmax +  np.timedelta64(60, 'm'), 60, dtype='datetime64[m]')\n",
    "    ticks_time = []\n",
    "    \n",
    "    #convert hourly tick marks to being parseable; show in Hour:Minute format \n",
    "    for i in ticks_dt:\n",
    "        k = pd.Timestamp(i).time()\n",
    "        k = k.strftime('%H:%M')\n",
    "        ticks_time.append(k)\n",
    "    fig = plt.figure()\n",
    "    ax1 = fig.add_subplot(111)\n",
    "    ax1.set_ylabel('demand (kW)')\n",
    "    ax1.set_xlabel('Time')\n",
    "    plt.plot(x,y)\n",
    "    plt.xticks(ticks = ticks_dt, labels = ticks_time)\n",
    "    plt.show()"
   ]
  },
  {
   "cell_type": "code",
   "execution_count": 8,
   "id": "8c97efbe",
   "metadata": {},
   "outputs": [
    {
     "data": {
      "image/png": "[encoded data removed]",
      "text/plain": [
       "<Figure size 432x288 with 1 Axes>"
      ]
     },
     "metadata": {
      "needs_background": "light"
     },
     "output_type": "display_data"
    }
   ],
   "source": [
    "inspect_meter(2)"
   ]
  },
  {
   "cell_type": "code",
   "execution_count": 11,
   "id": "c57bfbfa",
   "metadata": {},
   "outputs": [
    {
     "data": {
      "text/plain": [
       "Timestamp('2021-08-09 08:51:00')"
      ]
     },
     "execution_count": 11,
     "metadata": {},
     "output_type": "execute_result"
    }
   ],
   "source": [
    "j = demand_data[0][1]['time'].iloc[3]\n",
    "test_data['time'].iloc[0]"
   ]
  },
  {
   "cell_type": "code",
   "execution_count": 10,
   "id": "cf1413a9",
   "metadata": {},
   "outputs": [
    {
     "data": {
      "text/plain": [
       "[[32, 221, 404.0, 0],\n",
       " [32, 222, 389.0, 1],\n",
       " [32, 223, 434.0, 2],\n",
       " [32, 224, 451.0, 3],\n",
       " [32, 225, 467.0, 4],\n",
       " [32, 226, 362.0, 5],\n",
       " [32, 227, 196.0, 6],\n",
       " [33, 228, 370.0, 0],\n",
       " [33, 229, 345.0, 1],\n",
       " [33, 230, 398.0, 2],\n",
       " [33, 231, 397.0, 3],\n",
       " [33, 232, 367.0, 4],\n",
       " [33, 233, 306.0, 5],\n",
       " [33, 234, 189.0, 6],\n",
       " [34, 235, 417.0, 0],\n",
       " [34, 236, 418.0, 1],\n",
       " [34, 237, 435.0, 2],\n",
       " [34, 238, 470.0, 3],\n",
       " [34, 239, 452.0, 4],\n",
       " [34, 240, 306.0, 5],\n",
       " [34, 241, 182.0, 6],\n",
       " [35, 242, 426.0, 0],\n",
       " [35, 243, 414.0, 1],\n",
       " [35, 244, 323.0, 2],\n",
       " [35, 245, 322.0, 3],\n",
       " [35, 246, 296.0, 4],\n",
       " [35, 247, 265.0, 5],\n",
       " [35, 248, 187.0, 6],\n",
       " [36, 249, 350.0, 0],\n",
       " [36, 250, 350.0, 1],\n",
       " [36, 251, 396.0, 2],\n",
       " [36, 252, 338.0, 3],\n",
       " [36, 253, 314.0, 4],\n",
       " [36, 254, 269.0, 5],\n",
       " [36, 255, 211.0, 6],\n",
       " [37, 256, 425.0, 0],\n",
       " [37, 257, 387.0, 1],\n",
       " [37, 258, 441.0, 2],\n",
       " [37, 259, 369.0, 3],\n",
       " [37, 260, 352.0, 4],\n",
       " [37, 261, 326.0, 5],\n",
       " [37, 262, 207.0, 6],\n",
       " [38, 263, 338.0, 0],\n",
       " [38, 264, 351.0, 1],\n",
       " [38, 265, 366.0, 2],\n",
       " [38, 266, 383.0, 3],\n",
       " [38, 267, 313.0, 4],\n",
       " [38, 268, 268.0, 5],\n",
       " [38, 269, 188.0, 6],\n",
       " [39, 270, 331.0, 0],\n",
       " [39, 271, 347.0, 1],\n",
       " [39, 272, 305.0, 2],\n",
       " [39, 273, 311.0, 3],\n",
       " [39, 274, 281.0, 4],\n",
       " [39, 275, 270.0, 5],\n",
       " [39, 276, 208.0, 6],\n",
       " [40, 277, 358.0, 0],\n",
       " [40, 278, 303.0, 1],\n",
       " [40, 279, 310.0, 2],\n",
       " [40, 280, 336.0, 3],\n",
       " [40, 281, 322.0, 4],\n",
       " [40, 282, 255.0, 5],\n",
       " [40, 283, 196.0, 6],\n",
       " [41, 284, 306.0, 0],\n",
       " [41, 285, 319.0, 1]]"
      ]
     },
     "execution_count": 10,
     "metadata": {},
     "output_type": "execute_result"
    }
   ],
   "source": [
    "test_data = demand_data[0][1]\n",
    "#test_data = test_data[:60]\n",
    "past_day = 221\n",
    "daily_demand = []\n",
    "peaks = []\n",
    "for i in test_data.iterrows():\n",
    "    j = pd.Timestamp(i[1]['time'])\n",
    "    k = i[1]['demand']\n",
    "    if j.dayofyear == past_day:\n",
    "        daily_demand.append(k)\n",
    "        week = j.weekofyear\n",
    "        weekday = j.dayofweek\n",
    "    daily_max = max(daily_demand)\n",
    "    if j.dayofyear != past_day:\n",
    "        peaks.append([week, past_day, daily_max, weekday])\n",
    "        past_day +=1\n",
    "        daily_demand = []\n",
    "peaks"
   ]
  },
  {
   "cell_type": "code",
   "execution_count": 12,
   "id": "34c7df0a",
   "metadata": {},
   "outputs": [
    {
     "data": {
      "text/plain": [
       "[[404.0, 389.0, 434.0, 451.0, 467.0, 362.0, 196.0],\n",
       " [370.0, 345.0, 398.0, 397.0, 367.0, 306.0, 189.0],\n",
       " [417.0, 418.0, 435.0, 470.0, 452.0, 306.0, 182.0],\n",
       " [426.0, 414.0, 323.0, 322.0, 296.0, 265.0, 187.0],\n",
       " [350.0, 350.0, 396.0, 338.0, 314.0, 269.0, 211.0],\n",
       " [425.0, 387.0, 441.0, 369.0, 352.0, 326.0, 207.0],\n",
       " [338.0, 351.0, 366.0, 383.0, 313.0, 268.0, 188.0],\n",
       " [331.0, 347.0, 305.0, 311.0, 281.0, 270.0, 208.0],\n",
       " [358.0, 303.0, 310.0, 336.0, 322.0, 255.0, 196.0]]"
      ]
     },
     "execution_count": 12,
     "metadata": {},
     "output_type": "execute_result"
    }
   ],
   "source": [
    "j = 32\n",
    "weekly = []\n",
    "weekmat = []\n",
    "for i in peaks:\n",
    "    if i[0] == j:\n",
    "        weekly.append(i[2])\n",
    "    if i[0] != j:\n",
    "        weekmat.append(weekly)\n",
    "        j +=1\n",
    "        weekly = []\n",
    "        weekly.append(i[2])\n",
    "        \n",
    "weekmat"
   ]
  },
  {
   "cell_type": "code",
   "execution_count": 13,
   "id": "fe024e27",
   "metadata": {},
   "outputs": [
    {
     "data": {
      "image/png": "[encoded data removed]",
      "text/plain": [
       "<Figure size 432x288 with 2 Axes>"
      ]
     },
     "metadata": {
      "needs_background": "light"
     },
     "output_type": "display_data"
    }
   ],
   "source": [
    "fig, ax0 = plt.subplots(1,1)\n",
    "c = ax0.pcolor(weekmat)\n",
    "fig.colorbar(c, label = 'Demand (kW)')\n",
    "ax0.set_ylabel('Week of Year')\n",
    "ax0.set_xlabel('Day of Week')\n",
    "days_list = ['Mon', 'Tues', 'Wed', 'Thur', 'Fri', 'Sat', 'Sun']\n",
    "plt.xticks(ticks = np.arange(0,7), labels = days_list)\n",
    "plt.yticks(ticks = np.arange(0,9), labels = np.arange(32,41))\n",
    "plt.show()"
   ]
  },
  {
   "cell_type": "code",
   "execution_count": 19,
   "id": "d67537e9",
   "metadata": {},
   "outputs": [
    {
     "data": {
      "text/plain": [
       "[[189, '84'],\n",
       " [190, '85'],\n",
       " [191, '81'],\n",
       " [193, '85'],\n",
       " [194, '72'],\n",
       " [195, '86'],\n",
       " [196, '88'],\n",
       " [197, '90'],\n",
       " [198, '90'],\n",
       " [200, '83'],\n",
       " [201, '86'],\n",
       " [202, '80'],\n",
       " [203, '80'],\n",
       " [204, '82'],\n",
       " [205, '84'],\n",
       " [207, '87'],\n",
       " [208, '88'],\n",
       " [209, '81'],\n",
       " [210, '77'],\n",
       " [211, '82'],\n",
       " [212, '75'],\n",
       " [214, '79'],\n",
       " [215, '79'],\n",
       " [216, '76'],\n",
       " [217, '80'],\n",
       " [218, '87'],\n",
       " [219, '85'],\n",
       " [221, '78'],\n",
       " [222, '83'],\n",
       " [223, '89'],\n",
       " [224, '92'],\n",
       " [225, '93'],\n",
       " [226, '87'],\n",
       " [228, '83'],\n",
       " [229, '80'],\n",
       " [230, '83'],\n",
       " [231, '85'],\n",
       " [232, '82'],\n",
       " [233, '81'],\n",
       " [235, '83'],\n",
       " [236, '87'],\n",
       " [237, '90'],\n",
       " [238, '91'],\n",
       " [239, '91'],\n",
       " [240, '79'],\n",
       " [242, '84'],\n",
       " [243, '83'],\n",
       " [244, '76'],\n",
       " [245, '75'],\n",
       " [246, '72'],\n",
       " [247, '77'],\n",
       " [249, '81'],\n",
       " [250, '79'],\n",
       " [251, '82'],\n",
       " [252, '74'],\n",
       " [253, '73'],\n",
       " [254, '76'],\n",
       " [256, '82'],\n",
       " [257, '78'],\n",
       " [258, '84'],\n",
       " [259, '76'],\n",
       " [260, '74'],\n",
       " [261, '84'],\n",
       " [263, '75'],\n",
       " [264, '75'],\n",
       " [265, '78'],\n",
       " [266, '79'],\n",
       " [267, '71'],\n",
       " [268, '75'],\n",
       " [270, '77'],\n",
       " [271, '71'],\n",
       " [272, '67'],\n",
       " [273, '65'],\n",
       " [274, '66'],\n",
       " [275, '73'],\n",
       " [277, '76'],\n",
       " [278, '65'],\n",
       " [279, '70'],\n",
       " [280, '73'],\n",
       " [281, '74'],\n",
       " [282, '67'],\n",
       " [284, '70'],\n",
       " [285, '69']]"
      ]
     },
     "execution_count": 19,
     "metadata": {},
     "output_type": "execute_result"
    }
   ],
   "source": [
    "#getting high temperature for each day, with sunday removed\n",
    "weather = pd.read_csv('2752406.csv')\n",
    "temperature = pd.DataFrame({'DateTime':weather['DATE'], 'Temp (F)':weather['HourlyDryBulbTemperature']})\n",
    "hourly_temp = []\n",
    "max_temps = []\n",
    "past_day = 189\n",
    "\n",
    "\n",
    "#test = temperature[:200]\n",
    "for i in temperature.itertuples():\n",
    "#for i in test.itertuples():\n",
    "    j = pd.Timestamp(i[1])\n",
    "    k = i[2]\n",
    "    if str(k) == 'nan':\n",
    "        continue\n",
    "    if j.dayofyear == past_day:\n",
    "        hourly_temp.append(k)\n",
    "    daily_high_temp = max(hourly_temp)\n",
    "    if j.dayofyear != past_day:\n",
    "        #conditional if statement below to remove sundays \n",
    "        if j.dayofweek == 0:\n",
    "            past_day +=1\n",
    "            continue\n",
    "        else:\n",
    "            max_temps.append([past_day, daily_high_temp])\n",
    "            past_day +=1\n",
    "            hourly_temp = []\n",
    "            daily_high_temp = []\n",
    "max_temps"
   ]
  },
  {
   "cell_type": "code",
   "execution_count": 20,
   "id": "9cd79cfc",
   "metadata": {},
   "outputs": [
    {
     "data": {
      "text/plain": [
       "[[221, '78'],\n",
       " [222, '83'],\n",
       " [223, '89'],\n",
       " [224, '92'],\n",
       " [225, '93'],\n",
       " [226, '87'],\n",
       " [228, '83'],\n",
       " [229, '80'],\n",
       " [230, '83'],\n",
       " [231, '85'],\n",
       " [232, '82'],\n",
       " [233, '81'],\n",
       " [235, '83'],\n",
       " [236, '87'],\n",
       " [237, '90'],\n",
       " [238, '91'],\n",
       " [239, '91'],\n",
       " [240, '79'],\n",
       " [242, '84'],\n",
       " [243, '83'],\n",
       " [244, '76'],\n",
       " [245, '75'],\n",
       " [246, '72'],\n",
       " [247, '77'],\n",
       " [249, '81'],\n",
       " [250, '79'],\n",
       " [251, '82'],\n",
       " [252, '74'],\n",
       " [253, '73'],\n",
       " [254, '76'],\n",
       " [256, '82'],\n",
       " [257, '78'],\n",
       " [258, '84'],\n",
       " [259, '76'],\n",
       " [260, '74'],\n",
       " [261, '84'],\n",
       " [263, '75'],\n",
       " [264, '75'],\n",
       " [265, '78'],\n",
       " [266, '79'],\n",
       " [267, '71'],\n",
       " [268, '75'],\n",
       " [270, '77'],\n",
       " [271, '71'],\n",
       " [272, '67'],\n",
       " [273, '65'],\n",
       " [274, '66'],\n",
       " [275, '73'],\n",
       " [277, '76'],\n",
       " [278, '65'],\n",
       " [279, '70'],\n",
       " [280, '73'],\n",
       " [281, '74'],\n",
       " [282, '67'],\n",
       " [284, '70'],\n",
       " [285, '69']]"
      ]
     },
     "execution_count": 20,
     "metadata": {},
     "output_type": "execute_result"
    }
   ],
   "source": [
    "max_temps = max_temps[27:]\n",
    "max_temps"
   ]
  },
  {
   "cell_type": "code",
   "execution_count": 22,
   "id": "22d2c863",
   "metadata": {},
   "outputs": [
    {
     "data": {
      "text/plain": [
       "[[32, 221, 404.0, 0],\n",
       " [32, 222, 389.0, 1],\n",
       " [32, 223, 434.0, 2],\n",
       " [32, 224, 451.0, 3],\n",
       " [32, 225, 467.0, 4],\n",
       " [32, 226, 362.0, 5],\n",
       " [33, 228, 370.0, 0],\n",
       " [33, 229, 345.0, 1],\n",
       " [33, 230, 398.0, 2],\n",
       " [33, 231, 397.0, 3],\n",
       " [33, 232, 367.0, 4],\n",
       " [33, 233, 306.0, 5],\n",
       " [34, 235, 417.0, 0],\n",
       " [34, 236, 418.0, 1],\n",
       " [34, 237, 435.0, 2],\n",
       " [34, 238, 470.0, 3],\n",
       " [34, 239, 452.0, 4],\n",
       " [34, 240, 306.0, 5],\n",
       " [35, 242, 426.0, 0],\n",
       " [35, 243, 414.0, 1],\n",
       " [35, 244, 323.0, 2],\n",
       " [35, 245, 322.0, 3],\n",
       " [35, 246, 296.0, 4],\n",
       " [35, 247, 265.0, 5],\n",
       " [36, 249, 350.0, 0],\n",
       " [36, 250, 350.0, 1],\n",
       " [36, 251, 396.0, 2],\n",
       " [36, 252, 338.0, 3],\n",
       " [36, 253, 314.0, 4],\n",
       " [36, 254, 269.0, 5],\n",
       " [37, 256, 425.0, 0],\n",
       " [37, 257, 387.0, 1],\n",
       " [37, 258, 441.0, 2],\n",
       " [37, 259, 369.0, 3],\n",
       " [37, 260, 352.0, 4],\n",
       " [37, 261, 326.0, 5],\n",
       " [38, 263, 338.0, 0],\n",
       " [38, 264, 351.0, 1],\n",
       " [38, 265, 366.0, 2],\n",
       " [38, 266, 383.0, 3],\n",
       " [38, 267, 313.0, 4],\n",
       " [38, 268, 268.0, 5],\n",
       " [39, 270, 331.0, 0],\n",
       " [39, 271, 347.0, 1],\n",
       " [39, 272, 305.0, 2],\n",
       " [39, 273, 311.0, 3],\n",
       " [39, 274, 281.0, 4],\n",
       " [39, 275, 270.0, 5],\n",
       " [40, 277, 358.0, 0],\n",
       " [40, 278, 303.0, 1],\n",
       " [40, 279, 310.0, 2],\n",
       " [40, 280, 336.0, 3],\n",
       " [40, 281, 322.0, 4],\n",
       " [40, 282, 255.0, 5],\n",
       " [41, 284, 306.0, 0],\n",
       " [41, 285, 319.0, 1]]"
      ]
     },
     "execution_count": 22,
     "metadata": {},
     "output_type": "execute_result"
    }
   ],
   "source": [
    "#repeating the demand peak procedure, with sundays removed\n",
    "past_day = 221\n",
    "daily_demand = []\n",
    "peaks_nosun = []\n",
    "for i in test_data.iterrows():\n",
    "    j = pd.Timestamp(i[1]['time'])\n",
    "    k = i[1]['demand']\n",
    "    if j.dayofyear == past_day:\n",
    "        daily_demand.append(k)\n",
    "        week = j.weekofyear\n",
    "        weekday = j.dayofweek\n",
    "    daily_max = max(daily_demand)\n",
    "    if j.dayofyear != past_day:\n",
    "        #conditional if statement below to remove sundays \n",
    "        if j.dayofweek == 0:\n",
    "            past_day +=1\n",
    "            continue\n",
    "        else:\n",
    "            peaks_nosun.append([week, past_day, daily_max, weekday])\n",
    "            past_day +=1\n",
    "            daily_demand = []\n",
    "peaks_nosun"
   ]
  },
  {
   "cell_type": "code",
   "execution_count": 23,
   "id": "d0c06dee",
   "metadata": {},
   "outputs": [
    {
     "data": {
      "image/png": "[encoded data removed]",
      "text/plain": [
       "<Figure size 432x288 with 1 Axes>"
      ]
     },
     "metadata": {
      "needs_background": "light"
     },
     "output_type": "display_data"
    }
   ],
   "source": [
    "x = []\n",
    "y = []\n",
    "for i in max_temps:\n",
    "    x.append(i[1])\n",
    "for i in peaks_nosun:\n",
    "    y.append(i[2])\n",
    "df = pd.DataFrame({'Temp':x, 'Demand':y})\n",
    "df = df.sort_values('Temp')\n",
    "fig1, ax1 = plt.subplots(1,1)\n",
    "plt.scatter(df['Temp'], df['Demand'])\n",
    "ax1.set_ylabel('Peak Demand (kW)')\n",
    "ax1.set_xlabel('Max Temperature (F)')\n",
    "ax1.set_xticks(ax1.get_xticks()[::3])\n",
    "plt.show()"
   ]
  },
  {
   "cell_type": "code",
   "execution_count": 24,
   "id": "e6be4211",
   "metadata": {},
   "outputs": [
    {
     "data": {
      "image/png": "[encoded data removed]",
      "text/plain": [
       "<Figure size 432x288 with 1 Axes>"
      ]
     },
     "metadata": {
      "needs_background": "light"
     },
     "output_type": "display_data"
    }
   ],
   "source": [
    "df['Temp'] = df['Temp'].astype(int)\n",
    "fit = np.polyfit(df['Temp'],df['Demand'],1)\n",
    "x2 = df['Temp']\n",
    "y2 = x2*fit[0]+fit[1]\n",
    "fig1, ax1 = plt.subplots(1,1)\n",
    "plt.scatter(df['Temp'], df['Demand'])\n",
    "ax1.set_ylabel('Peak Demand (kW)')\n",
    "ax1.set_xlabel('Max Temperature (F)')\n",
    "#ax1.set_xticks(ax1.get_xticks()[::3])\n",
    "plt.plot(x2,y2)\n",
    "plt.show()"
   ]
  }
 ],
 "metadata": {
  "kernelspec": {
   "display_name": "Python 3",
   "language": "python",
   "name": "python3"
  },
  "language_info": {
   "codemirror_mode": {
    "name": "ipython",
    "version": 3
   },
   "file_extension": ".py",
   "mimetype": "text/x-python",
   "name": "python",
   "nbconvert_exporter": "python",
   "pygments_lexer": "ipython3",
   "version": "3.8.3"
  }
 },
 "nbformat": 4,
 "nbformat_minor": 5
}
